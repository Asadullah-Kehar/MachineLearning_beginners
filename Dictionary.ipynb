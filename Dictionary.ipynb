{
 "cells": [
  {
   "cell_type": "markdown",
   "metadata": {},
   "source": [
    "# Dictionaries\n",
    "   - Dictiories are used to store items in 'key:value' pairs.\n",
    "   - Dictionary elements are ordered, changable but donot allow duplicates.\n",
    "   - Dictionaries are specified within curly brackets having key-value pair."
   ]
  },
  {
   "cell_type": "code",
   "execution_count": 5,
   "metadata": {},
   "outputs": [
    {
     "name": "stdout",
     "output_type": "stream",
     "text": [
      "{'name': 'Ali', 'age': 25, 'City': 'Khairpur', 'country': 'Pakistan'}\n"
     ]
    }
   ],
   "source": [
    "dict1 = {\"name\" : \"Ali\",\n",
    "        \"age\" : 25,\n",
    "         \"City\" : \"Khairpur\",\n",
    "         \"country\" : \"Pakistan\"}\n",
    "\n",
    "print(dict1)"
   ]
  },
  {
   "cell_type": "code",
   "execution_count": null,
   "metadata": {},
   "outputs": [],
   "source": []
  },
  {
   "cell_type": "markdown",
   "metadata": {},
   "source": [
    "# Length of a dictionary\n",
    " - Length of dictionary refers to the number of elements: key-value pairs.\n",
    " - By using the len(), one can get the length/number of key-value pairs."
   ]
  },
  {
   "cell_type": "code",
   "execution_count": 6,
   "metadata": {},
   "outputs": [
    {
     "name": "stdout",
     "output_type": "stream",
     "text": [
      "4\n"
     ]
    }
   ],
   "source": [
    "print(len(dict1))"
   ]
  },
  {
   "cell_type": "code",
   "execution_count": null,
   "metadata": {},
   "outputs": [],
   "source": []
  },
  {
   "cell_type": "markdown",
   "metadata": {},
   "source": [
    "# Key:Value datatypes\n",
    " - In dictionary, keys* and values can be of any data-type.\n",
    " - *But in case of keys, they cannot be mutable objects (unhashable) \n",
    " - In list, we access elements by 'index' while in dictiony elements are accessed by 'key'.\n"
   ]
  },
  {
   "cell_type": "code",
   "execution_count": 8,
   "metadata": {},
   "outputs": [
    {
     "name": "stdout",
     "output_type": "stream",
     "text": [
      "{1: 'Ali', 'class': 8, (1, 0): 'None'}\n"
     ]
    }
   ],
   "source": [
    "student_info = {\n",
    "    1 : \"Ali\",\n",
    "    \"class\" : 8,\n",
    "    (1,0) : \"None\"\n",
    "}\n",
    "print(student_info)"
   ]
  },
  {
   "cell_type": "code",
   "execution_count": null,
   "metadata": {},
   "outputs": [],
   "source": []
  }
 ],
 "metadata": {
  "kernelspec": {
   "display_name": "Python 3",
   "language": "python",
   "name": "python3"
  },
  "language_info": {
   "codemirror_mode": {
    "name": "ipython",
    "version": 3
   },
   "file_extension": ".py",
   "mimetype": "text/x-python",
   "name": "python",
   "nbconvert_exporter": "python",
   "pygments_lexer": "ipython3",
   "version": "3.7.3"
  }
 },
 "nbformat": 4,
 "nbformat_minor": 2
}
